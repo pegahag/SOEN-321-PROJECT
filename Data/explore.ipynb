{
 "cells": [
  {
   "cell_type": "code",
   "execution_count": 10,
   "id": "63bfaca6",
   "metadata": {},
   "outputs": [
    {
     "ename": "ModuleNotFoundError",
     "evalue": "No module named 'numpy'",
     "output_type": "error",
     "traceback": [
      "\u001b[31m---------------------------------------------------------------------------\u001b[39m",
      "\u001b[31mModuleNotFoundError\u001b[39m                       Traceback (most recent call last)",
      "\u001b[36mCell\u001b[39m\u001b[36m \u001b[39m\u001b[32mIn[10]\u001b[39m\u001b[32m, line 2\u001b[39m\n\u001b[32m      1\u001b[39m \u001b[38;5;66;03m# Basic setup: imports\u001b[39;00m\n\u001b[32m----> \u001b[39m\u001b[32m2\u001b[39m \u001b[38;5;28;01mimport\u001b[39;00m\u001b[38;5;250m \u001b[39m\u001b[34;01mnumpy\u001b[39;00m\u001b[38;5;250m \u001b[39m\u001b[38;5;28;01mas\u001b[39;00m\u001b[38;5;250m \u001b[39m\u001b[34;01mnp\u001b[39;00m\n\u001b[32m      3\u001b[39m \u001b[38;5;28;01mimport\u001b[39;00m\u001b[38;5;250m \u001b[39m\u001b[34;01mpandas\u001b[39;00m\u001b[38;5;250m \u001b[39m\u001b[38;5;28;01mas\u001b[39;00m\u001b[38;5;250m \u001b[39m\u001b[34;01mpd\u001b[39;00m\n\u001b[32m      4\u001b[39m \u001b[38;5;28;01mimport\u001b[39;00m\u001b[38;5;250m \u001b[39m\u001b[34;01mmatplotlib\u001b[39;00m\u001b[34;01m.\u001b[39;00m\u001b[34;01mpyplot\u001b[39;00m\u001b[38;5;250m \u001b[39m\u001b[38;5;28;01mas\u001b[39;00m\u001b[38;5;250m \u001b[39m\u001b[34;01mplt\u001b[39;00m\n",
      "\u001b[31mModuleNotFoundError\u001b[39m: No module named 'numpy'"
     ]
    }
   ],
   "source": [
    "# Basic setup: imports\n",
    "import numpy as np\n",
    "import pandas as pd\n",
    "import matplotlib.pyplot as plt\n",
    "import seaborn as sns\n",
    "import pickle\n",
    "\n",
    "from ucimlrepo import fetch_ucirepo\n",
    "\n",
    "pd.set_option('display.max_columns', None)\n",
    "sns.set(style=\"whitegrid\")"
   ]
  },
  {
   "cell_type": "code",
   "execution_count": null,
   "id": "13154b75",
   "metadata": {},
   "outputs": [
    {
     "name": "stdout",
     "output_type": "stream",
     "text": [
      "Dataset object type: <class 'ucimlrepo.dotdict.dotdict'>\n",
      "Dataset name: Breast Cancer Wisconsin (Diagnostic)\n",
      "Number of instances: 569\n",
      "Number of features: 30\n"
     ]
    }
   ],
   "source": [
    "# Fetching the data\n",
    "wdbc = fetch_ucirepo(id=17)\n",
    "\n",
    "# Quick checks of what we got\n",
    "print(\"Dataset object type:\", type(wdbc))\n",
    "print(\"Dataset name:\", wdbc.metadata.name)\n",
    "print(\"Number of instances:\", wdbc.metadata.num_instances)\n",
    "print(\"Number of features:\", wdbc.metadata.num_features)"
   ]
  },
  {
   "cell_type": "code",
   "execution_count": 18,
   "id": "5e47847a",
   "metadata": {},
   "outputs": [
    {
     "name": "stdout",
     "output_type": "stream",
     "text": [
      "/usr/local/opt/python@3.11/bin/python3.11\n"
     ]
    }
   ],
   "source": [
    "import sys\n",
    "print(sys.executable)  # should point to .venv/bin/python"
   ]
  },
  {
   "cell_type": "code",
   "execution_count": null,
   "id": "d6cb2d26",
   "metadata": {},
   "outputs": [
    {
     "name": "stdout",
     "output_type": "stream",
     "text": [
      "Index(['ID'], dtype='object')\n"
     ]
    }
   ],
   "source": [
    "x = wdbc.data.features\n",
    "y = wdbc.data.targets\n",
    "ids = wdbc.data.ids\n",
    "print (ids.columns)"
   ]
  },
  {
   "cell_type": "code",
   "execution_count": null,
   "id": "132af4a7",
   "metadata": {},
   "outputs": [
    {
     "name": "stdout",
     "output_type": "stream",
     "text": [
      "           ID  texture1   area3  smoothness3 Diagnosis\n",
      "0      842302     10.38  2019.0      0.16220         M\n",
      "1      842517     17.77  1956.0      0.12380         M\n",
      "2    84300903     21.25  1709.0      0.14440         M\n",
      "3    84348301     20.38   567.7      0.20980         M\n",
      "4    84358402     14.34  1575.0      0.13740         M\n",
      "..        ...       ...     ...          ...       ...\n",
      "564    926424     22.39  2027.0      0.14100         M\n",
      "565    926682     28.25  1731.0      0.11660         M\n",
      "566    926954     28.08  1124.0      0.11390         M\n",
      "567    927241     29.33  1821.0      0.16500         M\n",
      "568     92751     24.54   268.6      0.08996         B\n",
      "\n",
      "[569 rows x 5 columns]\n"
     ]
    }
   ],
   "source": [
    "selected_columns_x = x[['texture1', 'area3', 'smoothness3']]\n",
    "reduced_data = pd.concat([ids, selected_columns_x, y], axis=1)\n",
    "print(reduced_data)\n",
    "reduced_data.to_pickle('wdbc_reduced_data.pkl') "
   ]
  },
  {
   "cell_type": "code",
   "execution_count": 60,
   "id": "ef6e0c6d",
   "metadata": {},
   "outputs": [
    {
     "name": "stdout",
     "output_type": "stream",
     "text": [
      "diagnosis\n",
      "B    357\n",
      "M    212\n",
      "Name: count, dtype: int64\n",
      "\n",
      "\n",
      "            texture1                                area3                 \\\n",
      "                mean    max    min       std         mean     max    min   \n",
      "diagnosis                                                                  \n",
      "B          17.914762  33.81   9.71  3.995125   558.899440  1210.0  185.2   \n",
      "M          21.604906  39.28  10.38  3.779470  1422.286321  4254.0  508.1   \n",
      "\n",
      "                      smoothness3                             \n",
      "                  std        mean     max      min       std  \n",
      "diagnosis                                                     \n",
      "B          163.601424    0.124959  0.2006  0.07117  0.020013  \n",
      "M          597.967743    0.144845  0.2226  0.08822  0.021870  \n"
     ]
    }
   ],
   "source": [
    "# Preparing the data for statistical analysis of initial data in the three columns\n",
    "statistic_data = reduced_data.drop(columns=['id'])\n",
    "count_ys = statistic_data['diagnosis'].value_counts()\n",
    "stats = (\n",
    "    statistic_data\n",
    "    .groupby('diagnosis')[['texture1', 'area3', 'smoothness3']]\n",
    "    .agg(['mean', 'max', 'min', 'std'])\n",
    ")\n",
    "print (count_ys)\n",
    "print(\"\\n\") \n",
    "print(stats)"
   ]
  },
  {
   "cell_type": "code",
   "execution_count": null,
   "id": "82e07a40",
   "metadata": {},
   "outputs": [
    {
     "name": "stdout",
     "output_type": "stream",
     "text": [
      "Outliers detected across key attributes:\n",
      "     texture1   area3  smoothness3 diagnosis\n",
      "219     32.47  2477.0      0.14080         M\n",
      "232     33.81   470.9      0.09994         B\n",
      "239     39.28  1408.0      0.13650         M\n",
      "259     33.56  1035.0      0.18830         M\n",
      "265     31.12  3432.0      0.14010         M\n",
      "455     30.72   705.6      0.11720         B\n",
      "562     30.62   915.0      0.14170         M\n",
      "0       10.38  2019.0      0.16220         M\n",
      "1       17.77  1956.0      0.12380         M\n",
      "18      22.15  2398.0      0.15120         M\n",
      "23      23.04  2615.0      0.14010         M\n",
      "24      21.38  2215.0      0.18050         M\n",
      "56      18.57  2145.0      0.16240         M\n",
      "82      24.91  2562.0      0.15730         M\n",
      "108     19.67  2360.0      0.17010         M\n",
      "122     20.20  2073.0      0.16960         M\n",
      "162     18.15  2232.0      0.14380         M\n",
      "164     22.04  2403.0      0.12280         M\n",
      "180     21.87  3216.0      0.14720         M\n",
      "181     26.57  2089.0      0.14910         M\n",
      "202     26.67  1986.0      0.15360         M\n",
      "212     18.47  2499.0      0.11420         M\n",
      "218     21.56  2009.0      0.13530         M\n",
      "236     26.97  2944.0      0.14810         M\n",
      "250     23.56  2010.0      0.12110         M\n",
      "254     19.33  1972.0      0.14970         M\n",
      "272     20.99  2384.0      0.12720         M\n",
      "300     18.90  2053.0      0.14950         M\n",
      "323     21.51  1938.0      0.15920         M\n",
      "339     24.27  2906.0      0.15150         M\n",
      "352     17.46  3234.0      0.15300         M\n",
      "368     17.25  3143.0      0.13630         M\n",
      "369     21.90  2227.0      0.12940         M\n",
      "373     17.35  1946.0      0.15620         M\n",
      "393     22.28  2081.0      0.15020         M\n",
      "449     20.52  2022.0      0.13680         M\n",
      "461     26.27  4254.0      0.13570         M\n",
      "503     19.83  2782.0      0.11990         M\n",
      "521     21.60  2642.0      0.13420         M\n",
      "564     22.39  2027.0      0.14100         M\n",
      "3       20.38   567.7      0.20980         M\n",
      "41      21.35   514.0      0.19090         M\n",
      "192     18.22   303.8      0.07117         B\n",
      "203     23.75  1153.0      0.22260         M\n",
      "379     18.83   508.1      0.21840         M\n",
      "504     12.87   300.2      0.19020         B\n",
      "505     13.14   328.1      0.20060         B\n"
     ]
    }
   ],
   "source": [
    "# Finding the outlier in each column\n",
    "features = ['texture1', 'area3', 'smoothness3']\n",
    "\n",
    "def detect_outliers_multi(df, features):\n",
    "    outlier_rows = pd.DataFrame()\n",
    "\n",
    "    for col in features:\n",
    "        Q1 = df[col].quantile(0.25)\n",
    "        Q3 = df[col].quantile(0.75)\n",
    "        IQR = Q3 - Q1\n",
    "        lower = Q1 - 1.5 * IQR\n",
    "        upper = Q3 + 1.5 * IQR\n",
    "\n",
    "        outliers = df[(df[col] < lower) | (df[col] > upper)]\n",
    "        outlier_rows = pd.concat([outlier_rows, outliers])\n",
    "\n",
    "    # Drop duplicates (rows that are outliers in more than one feature)\n",
    "    outlier_rows = outlier_rows.drop_duplicates()\n",
    "    return outlier_rows\n",
    "\n",
    "outliers = detect_outliers_multi(statistic_data, features)\n",
    "print(\"Outliers detected across key attributes:\")\n",
    "print(outliers)"
   ]
  },
  {
   "cell_type": "code",
   "execution_count": null,
   "id": "7dbb5229",
   "metadata": {},
   "outputs": [
    {
     "data": {
      "image/png": "[encoded data removed]",
      "text/plain": [
       "<Figure size 1000x500 with 1 Axes>"
      ]
     },
     "metadata": {},
     "output_type": "display_data"
    }
   ],
   "source": [
    "# plptting the boxplot of the main columns\n",
    "\n",
    "plt.figure(figsize=(10,5))\n",
    "statistic_data.boxplot(column=features)\n",
    "plt.title(\"Outlier Visualization (Texture1, Area3, Smoothness3)\")\n",
    "plt.ylabel(\"Values\")\n",
    "plt.grid(True, linestyle='--', alpha=0.6)\n",
    "plt.show()\n"
   ]
  },
  {
   "cell_type": "code",
   "execution_count": 62,
   "id": "aaed6f21",
   "metadata": {},
   "outputs": [],
   "source": [
    "data_shuffled = reduced_data.sample(frac=1, random_state=42).reset_index(drop=True)\n",
    "data_shuffled['fold'] = np.arange(len(data_shuffled)) % 10\n",
    "\n",
    "# If you want 80% of data for training\n",
    "# training = data_shuffled[data_shuffled['fold'].isin([0,1,2,3,4,5,6,7])]"
   ]
  }
 ],
 "metadata": {
  "kernelspec": {
   "display_name": ".venv",
   "language": "python",
   "name": "python3"
  },
  "language_info": {
   "codemirror_mode": {
    "name": "ipython",
    "version": 3
   },
   "file_extension": ".py",
   "mimetype": "text/x-python",
   "name": "python",
   "nbconvert_exporter": "python",
   "pygments_lexer": "ipython3",
   "version": "3.13.2"
  }
 },
 "nbformat": 4,
 "nbformat_minor": 5
}
